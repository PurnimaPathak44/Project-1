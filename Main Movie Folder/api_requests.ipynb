{
 "cells": [
  {
   "cell_type": "code",
   "execution_count": null,
   "metadata": {},
   "outputs": [],
   "source": [
    "#import Dependencies\n",
    "import pandas as pd\n",
    "import requests\n",
    "from config import omdb_api_key"
   ]
  },
  {
   "cell_type": "code",
   "execution_count": null,
   "metadata": {},
   "outputs": [],
   "source": [
    "# Create a path to the csv file and read it into a Pandas DataFrame\n",
    "file_path = '../Resources/TMBD Movie Dataset.csv'\n",
    "tmbd_df = pd.read_csv(file_path)"
   ]
  },
  {
   "cell_type": "code",
   "execution_count": null,
   "metadata": {},
   "outputs": [],
   "source": [
    "#Store url in variable aptly named url\n",
    "url = 'https://api.themoviedb.org/3/movie/550?api_key='"
   ]
  },
  {
   "cell_type": "code",
   "execution_count": null,
   "metadata": {},
   "outputs": [],
   "source": [
    "#Create an empty list to store responses from API\n",
    "api_movie_data = []\n",
    "\n",
    "#For loop to iterate through movies in tmbd_df and create API request for each\n",
    "for i in range(len(tmbd_df)):\n",
    "    \n",
    "    movie_id = tmbd_df['imdb_id'][i]\n",
    "    target_url = (f\"http://www.omdbapi.com/?i={movie_id}&apikey={omdb_api_key}\")\n",
    "    response = requests.get(target_url).json()\n",
    "\n",
    "    #Store API responses in api_movie_data list\n",
    "    api_movie_data.append(response)"
   ]
  },
  {
   "cell_type": "code",
   "execution_count": 35,
   "metadata": {},
   "outputs": [],
   "source": [
    "#Create empty DataFrame to store api API responses in api_movie_data\n",
    "api_movie_data_df = pd.DataFrame()\n",
    "\n",
    "#For loop to iterate through responses and store them in api_movie_data_df\n",
    "for movie in api_movie_data:\n",
    "    movie_df = pd.json_normalize(movie)\n",
    "    api_movie_data_df = pd.concat([api_movie_data_df, movie_df], ignore_index=True)"
   ]
  },
  {
   "cell_type": "code",
   "execution_count": null,
   "metadata": {},
   "outputs": [],
   "source": [
    "#Create copy of api_movie_data_df to clean\n",
    "clean_api_movie_data_df = api_movie_data_df.copy()"
   ]
  },
  {
   "cell_type": "code",
   "execution_count": null,
   "metadata": {},
   "outputs": [],
   "source": [
    "#Drop unnecessary columns from DataFrame\n",
    "clean_api_movie_data_df = clean_api_movie_data_df.drop(['Plot', 'Poster', 'Type', 'DVD', 'Website', 'Response', 'Production'], axis=1)"
   ]
  },
  {
   "cell_type": "code",
   "execution_count": null,
   "metadata": {},
   "outputs": [],
   "source": [
    "#Create copy of tmbd_df to clean\n",
    "clean_tmbd_df = tmbd_df.copy()"
   ]
  },
  {
   "cell_type": "code",
   "execution_count": null,
   "metadata": {},
   "outputs": [],
   "source": [
    "#Drop unnecessary columns from DataFrame\n",
    "clean_tmbd_df = clean_tmbd_df.drop(['Unnamed: 0', 'id', 'popularity', 'original_title', 'cast', 'homepage', 'director', 'tagline',\n",
    "       'overview', 'runtime', 'genres', 'release_date',\n",
    "       'vote_count', 'vote_average', 'release_year', 'budget_adj',\n",
    "       'revenue_adj', 'popularity_level', 'profit', 'revenue'], axis=1)"
   ]
  },
  {
   "cell_type": "code",
   "execution_count": null,
   "metadata": {},
   "outputs": [],
   "source": [
    "#Rename column to imdbID to match that of clean_api_movie_data_df\n",
    "clean_tmbd_df = clean_tmbd_df.rename(columns={\"imdb_id\": 'imdbID'})"
   ]
  },
  {
   "cell_type": "code",
   "execution_count": null,
   "metadata": {},
   "outputs": [],
   "source": [
    "#Merge the two DataFrames on the imdbID to create comprehensive DataFrame with all necessary information\n",
    "clean_movies_api_df = pd.merge(clean_api_movie_data_df, clean_tmbd_df, on='imdbID')"
   ]
  },
  {
   "cell_type": "code",
   "execution_count": null,
   "metadata": {},
   "outputs": [],
   "source": [
    "#export all_movie_data_clean_df as csv files\n",
    "clean_movies_api_df.to_csv('clean_movies_api_df2.csv')"
   ]
  }
 ],
 "metadata": {
  "kernelspec": {
   "display_name": "RUTDataViz2023",
   "language": "python",
   "name": "python3"
  },
  "language_info": {
   "codemirror_mode": {
    "name": "ipython",
    "version": 3
   },
   "file_extension": ".py",
   "mimetype": "text/x-python",
   "name": "python",
   "nbconvert_exporter": "python",
   "pygments_lexer": "ipython3",
   "version": "3.8.16"
  },
  "orig_nbformat": 4
 },
 "nbformat": 4,
 "nbformat_minor": 2
}
