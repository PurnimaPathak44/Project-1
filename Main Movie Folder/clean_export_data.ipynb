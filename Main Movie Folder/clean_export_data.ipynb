{
 "cells": [
  {
   "cell_type": "code",
   "execution_count": null,
   "metadata": {},
   "outputs": [],
   "source": [
    "#import Dependencies\n",
    "import pandas as pd\n",
    "import numpy as np\n",
    "pd.options.mode.chained_assignment = None"
   ]
  },
  {
   "cell_type": "code",
   "execution_count": null,
   "metadata": {},
   "outputs": [],
   "source": [
    "# Create a path to the csv file and read it into a Pandas DataFrame\n",
    "movie_api_file_path1 = '../EDA-Project/Data/api_data/clean_movies_api_df1.csv'\n",
    "api_movie_df1 = pd.read_csv(movie_api_file_path1)\n",
    "movie_api_file_path2 = '../EDA-Project/Data/api_data/clean_movies_api_df2.csv'\n",
    "api_movie_df2 = pd.read_csv(movie_api_file_path2)\n",
    "tmbd_file_path = '../Resources/TMBD Movie Dataset.csv'\n",
    "tmbd_df = pd.read_csv(tmbd_file_path)"
   ]
  },
  {
   "cell_type": "code",
   "execution_count": null,
   "metadata": {},
   "outputs": [],
   "source": [
    "#Combine both api DataFrames\n",
    "all__api_movie_data_df = pd.concat([api_movie_df1, api_movie_df2], ignore_index=True)"
   ]
  },
  {
   "cell_type": "code",
   "execution_count": null,
   "metadata": {},
   "outputs": [],
   "source": [
    "#preview api movie data columns\n",
    "all__api_movie_data_df.columns"
   ]
  },
  {
   "cell_type": "code",
   "execution_count": null,
   "metadata": {},
   "outputs": [],
   "source": [
    "#Drop 'Unnamed: 0' column\n",
    "all__api_movie_data_df = all__api_movie_data_df.drop('Unnamed: 0', axis=1)"
   ]
  },
  {
   "cell_type": "code",
   "execution_count": null,
   "metadata": {},
   "outputs": [],
   "source": [
    "#Create copy of api_movie_df to clean\n",
    "clean_api_movie_df = all__api_movie_data_df.copy()"
   ]
  },
  {
   "cell_type": "code",
   "execution_count": null,
   "metadata": {},
   "outputs": [],
   "source": [
    "#Rename Production column\n",
    "clean_api_movie_df = clean_api_movie_df.rename(columns={\"production_companies\": 'Production'})"
   ]
  },
  {
   "cell_type": "code",
   "execution_count": null,
   "metadata": {},
   "outputs": [],
   "source": [
    "#Drop columns containing missing values and reset the index\n",
    "clean_api_movie_df = clean_api_movie_df.dropna()\n",
    "clean_api_movie_df = clean_api_movie_df.reset_index(drop=True)"
   ]
  },
  {
   "cell_type": "code",
   "execution_count": null,
   "metadata": {},
   "outputs": [],
   "source": [
    "#Preview column data types to see which need to be changed\n",
    "clean_api_movie_df.dtypes"
   ]
  },
  {
   "cell_type": "code",
   "execution_count": null,
   "metadata": {},
   "outputs": [],
   "source": [
    "#Convert Released column to datetime type\n",
    "clean_api_movie_df['Released'] =  clean_api_movie_df['Released'].astype('datetime64[ns]')"
   ]
  },
  {
   "cell_type": "code",
   "execution_count": null,
   "metadata": {},
   "outputs": [],
   "source": [
    "#For loop to iterate every row to create lists of items in each column\n",
    "for i in range(len(clean_api_movie_df)):\n",
    "    clean_api_movie_df['keywords'][i] = clean_api_movie_df['keywords'][i].split('|')\n",
    "    clean_api_movie_df['Actors'][i] = clean_api_movie_df['Actors'][i].split(',')\n",
    "    clean_api_movie_df['Genre'][i] = clean_api_movie_df['Genre'][i].split(',')\n",
    "    clean_api_movie_df['Production'][i] = clean_api_movie_df['Production'][i].split('|')\n",
    "    clean_api_movie_df['Director'][i] = clean_api_movie_df['Director'][i].split(',')\n",
    "    clean_api_movie_df['Writer'][i] = clean_api_movie_df['Writer'][i].split(',')\n",
    "    clean_api_movie_df['Language'][i] = clean_api_movie_df['Language'][i].split(',')\n",
    "    clean_api_movie_df['Country'][i] = clean_api_movie_df['Country'][i].split(',')"
   ]
  },
  {
   "cell_type": "code",
   "execution_count": null,
   "metadata": {},
   "outputs": [],
   "source": [
    "#Convert Runtime, ImdbVotes, Box Office, and budget columns to type int\n",
    "clean_api_movie_df['Runtime'] = clean_api_movie_df['Runtime'].str.replace(' min', '').astype(int)\n",
    "clean_api_movie_df['imdbVotes'] = clean_api_movie_df['imdbVotes'].str.replace(',', '').astype(int)\n",
    "clean_api_movie_df['BoxOffice'] = clean_api_movie_df['BoxOffice'].str.replace(',', '')\n",
    "clean_api_movie_df['BoxOffice'] = clean_api_movie_df['BoxOffice'].str.replace('$', '', regex=True)\n",
    "clean_api_movie_df['BoxOffice'] = clean_api_movie_df['BoxOffice'].astype(int)\n",
    "clean_api_movie_df['budget'] = clean_api_movie_df['budget'].astype(int)"
   ]
  },
  {
   "cell_type": "code",
   "execution_count": null,
   "metadata": {},
   "outputs": [],
   "source": [
    "#Create new column to store Rotten Tomatoes score\n",
    "clean_api_movie_df['Rotten Tomatoes'] = ''\n",
    "\n",
    "#For loop to interate though each row and pull Rotten Tomatoes score from Ratings column and assign to Rotten Tomatoes column\n",
    "for i in range(len(clean_api_movie_df)):\n",
    "    \n",
    "    if 'Rotten Tomatoes' in clean_api_movie_df['Ratings'][i]:\n",
    "        clean_api_movie_df.loc[i, 'Rotten Tomatoes'] = clean_api_movie_df['Ratings'][i][99:101]\n",
    "    else:\n",
    "        clean_api_movie_df.loc[i, 'Rotten Tomatoes'] = None"
   ]
  },
  {
   "cell_type": "code",
   "execution_count": null,
   "metadata": {},
   "outputs": [],
   "source": [
    "#Drop columns containing missing values and reset the index\n",
    "clean_api_movie_df = clean_api_movie_df.dropna()\n",
    "clean_api_movie_df = clean_api_movie_df.reset_index(drop=True)"
   ]
  },
  {
   "cell_type": "code",
   "execution_count": null,
   "metadata": {},
   "outputs": [],
   "source": [
    "#Convert Rotten Tomatoes column to type int\n",
    "clean_api_movie_df['Rotten Tomatoes'] = clean_api_movie_df['Rotten Tomatoes'].str.replace('%', '').astype(int)"
   ]
  },
  {
   "cell_type": "code",
   "execution_count": null,
   "metadata": {},
   "outputs": [],
   "source": [
    "#Create emtpy lists to store oscars won, oscar nominations, award wins, and award nominations for each movie\n",
    "oscars_won = []\n",
    "oscar_nominations = []\n",
    "award_wins = []\n",
    "award_nominations = []\n",
    "\n",
    "#For loop to pull oscars won, oscar nominations, award wins, and award nominations values from awards \n",
    "# column and append to corresponding list\n",
    "for i in range(len(clean_api_movie_df)):\n",
    "    awards = clean_api_movie_df['Awards'][i].lower()\n",
    "    awards_string_list = awards.split(' ')\n",
    "    \n",
    "    if 'won' in awards_string_list:\n",
    "        won_index = awards_string_list.index('won')\n",
    "        oscars_won.append(awards_string_list[won_index + 1])\n",
    "    else:\n",
    "        oscars_won.append(0)\n",
    "\n",
    "    if 'nominated' in awards_string_list:\n",
    "        nominated_index = awards_string_list.index('nominated')\n",
    "        oscar_nominations.append(awards_string_list[nominated_index + 2])\n",
    "    else:\n",
    "        oscar_nominations.append(0)\n",
    "        \n",
    "    if 'wins' in awards_string_list:\n",
    "        win_index = awards_string_list.index('wins')\n",
    "        award_wins.append(awards_string_list[win_index - 1])\n",
    "    elif '1 win &' in awards:\n",
    "        award_wins.append(1)\n",
    "    else:\n",
    "        award_wins.append(0)\n",
    "    \n",
    "    if 'nominations' in awards_string_list:\n",
    "        nominations_index = awards_string_list.index('nominations')\n",
    "        award_nominations.append(awards_string_list[nominations_index - 1])\n",
    "    elif '1 nomination' in awards:\n",
    "        award_nominations.append(1)\n",
    "    else:\n",
    "        award_nominations.append(0)\n",
    "\n",
    "#Create oscar nominations, award wins, and award nominations columns in DataFrame and assign corresponding\n",
    "clean_api_movie_df['oscar_wins'] = oscars_won\n",
    "clean_api_movie_df['oscar_nominations'] = oscar_nominations\n",
    "clean_api_movie_df['award_wins'] = award_wins\n",
    "clean_api_movie_df['award_nominations'] = award_nominations"
   ]
  },
  {
   "cell_type": "code",
   "execution_count": null,
   "metadata": {},
   "outputs": [],
   "source": [
    "#Convert all values in award wins and award nominations to type str\n",
    "clean_api_movie_df['award_wins'] = clean_api_movie_df['award_wins'].astype(str)\n",
    "clean_api_movie_df['award_nominations'] = clean_api_movie_df['award_nominations'].astype(str)"
   ]
  },
  {
   "cell_type": "code",
   "execution_count": null,
   "metadata": {},
   "outputs": [],
   "source": [
    "#For loop to remove any award wins and award nominations values containing 'award' and replace with just number value\n",
    "for i in range(len(clean_api_movie_df)):\n",
    "    award_wins = clean_api_movie_df['award_wins'][i]\n",
    "    award_nominations = clean_api_movie_df['award_nominations'][i]\n",
    "\n",
    "    if 'award' in award_wins:\n",
    "        award_wins_string_split = award_wins.split('d')\n",
    "        award_wins_number = award_wins_string_split[1]\n",
    "        clean_api_movie_df['award_wins'][i] = award_wins_number\n",
    "    else:\n",
    "        pass\n",
    "\n",
    "    if 'award' in award_nominations:\n",
    "        award_nominations_string_split = award_nominations.split('d')\n",
    "        award_nominations_number = award_nominations_string_split[1]\n",
    "        clean_api_movie_df['award_nominations'][i] = award_nominations_number\n",
    "    else:\n",
    "        pass"
   ]
  },
  {
   "cell_type": "code",
   "execution_count": null,
   "metadata": {},
   "outputs": [],
   "source": [
    "#Convert oscars won, oscar nominations, award wins, and award nominations values to type int\n",
    "clean_api_movie_df['award_wins'] = clean_api_movie_df['award_wins'].astype(int)\n",
    "clean_api_movie_df['oscar_wins'] = clean_api_movie_df['oscar_wins'].astype(int)\n",
    "clean_api_movie_df['oscar_nominations'] = clean_api_movie_df['oscar_nominations'].astype(int)\n",
    "clean_api_movie_df['award_nominations'] = clean_api_movie_df['award_nominations'].astype(int)"
   ]
  },
  {
   "cell_type": "code",
   "execution_count": null,
   "metadata": {},
   "outputs": [],
   "source": [
    "#Create new DataFrame with column rearranged from clean_api_movie_df\n",
    "all_movie_data_clean_df = clean_api_movie_df.reindex(columns=['Title', 'Released', 'Year', 'Rated', 'Runtime', 'Genre', 'Director',\n",
    "       'Writer', 'Actors', 'Language', 'Country', 'Ratings', 'Rotten Tomatoes',\n",
    "       'Metascore', 'imdbRating', 'imdbVotes', 'imdbID', 'BoxOffice', 'budget',\n",
    "       'keywords', 'Production',  'Awards',  'oscar_wins',\n",
    "       'oscar_nominations', 'award_wins', 'award_nominations'])"
   ]
  },
  {
   "cell_type": "code",
   "execution_count": null,
   "metadata": {},
   "outputs": [],
   "source": [
    "#Preview cleaned movie data\n",
    "all_movie_data_clean_df.tail()"
   ]
  },
  {
   "cell_type": "code",
   "execution_count": null,
   "metadata": {},
   "outputs": [],
   "source": [
    "#Preview cleaned data column types\n",
    "all_movie_data_clean_df.dtypes"
   ]
  },
  {
   "cell_type": "code",
   "execution_count": null,
   "metadata": {},
   "outputs": [],
   "source": [
    "#export all_movie_data_clean_df as csv files\n",
    "all_movie_data_clean_df.to_csv('all_movie_data_clean_df.csv')"
   ]
  }
 ],
 "metadata": {
  "kernelspec": {
   "display_name": "RUTDataViz2023",
   "language": "python",
   "name": "python3"
  },
  "language_info": {
   "codemirror_mode": {
    "name": "ipython",
    "version": 3
   },
   "file_extension": ".py",
   "mimetype": "text/x-python",
   "name": "python",
   "nbconvert_exporter": "python",
   "pygments_lexer": "ipython3",
   "version": "3.8.16"
  },
  "orig_nbformat": 4
 },
 "nbformat": 4,
 "nbformat_minor": 2
}
